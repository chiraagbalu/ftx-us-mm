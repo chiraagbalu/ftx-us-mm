{
 "cells": [
  {
   "cell_type": "code",
   "execution_count": 2,
   "id": "1334bf38",
   "metadata": {},
   "outputs": [
    {
     "data": {
      "text/plain": [
       "['BTC', 'ETH', 'SOL']"
      ]
     },
     "execution_count": 2,
     "metadata": {},
     "output_type": "execute_result"
    }
   ],
   "source": [
    "import pandas as pd\n",
    "import numpy as np\n",
    "import traceback\n",
    "import yaml\n",
    "from datetime import datetime\n",
    "import time\n",
    "\n",
    "from websock.client import FtxWebsocketClient\n",
    "# from websock.websocket_manager import WebsocketManager\n",
    "from rest import client_us as restclient\n",
    "\n",
    "import os\n",
    "from dotenv import load_dotenv\n",
    "\n",
    "import logging\n",
    "# logging.basicConfig(level=logging.DEBUG)\n",
    "#logger = logging.getLogger(__name__)\n",
    "\n",
    "load_dotenv()\n",
    "\n",
    "# load in api keys\n",
    "API_KEY = os.getenv('API_KEY')\n",
    "SECRET_KEY = os.getenv('SECRET_KEY')\n",
    "\n",
    "# connect to rest client\n",
    "rest = restclient.FtxClient(api_key=API_KEY, api_secret=SECRET_KEY)\n",
    "\n",
    "# connect to websocket\n",
    "sock = FtxWebsocketClient()\n",
    "sock.connect()\n",
    "\n",
    "i = 0\n",
    "\n",
    "# setup\n",
    "with open(\"settings.yaml\", \"r\") as f:\n",
    "    settings = yaml.safe_load(f)\n",
    "\n",
    "markets = settings.keys()\n",
    "\n",
    "inventory = {}\n",
    "bals = rest.get_balances()\n",
    "for bal in bals:\n",
    "    inventory[bal['coin']] = bal['usdValue']\n",
    "usd_total = rest.get_total_usd_balance()\n",
    "usd_per = usd_total/(2*len(markets)) * (1-0.0002)\n",
    "coins = [market[:-4] for market in markets]\n",
    "coins\n"
   ]
  },
  {
   "cell_type": "code",
   "execution_count": 76,
   "id": "fd1504cc",
   "metadata": {},
   "outputs": [
    {
     "name": "stdout",
     "output_type": "stream",
     "text": [
      "0.16906118392944336\n"
     ]
    }
   ],
   "source": [
    "start = time.time()\n",
    "pd.DataFrame(rest.get_open_orders())\n",
    "print(time.time()-start)"
   ]
  },
  {
   "cell_type": "code",
   "execution_count": 119,
   "id": "f9aa2f8e",
   "metadata": {},
   "outputs": [],
   "source": [
    "import pandas as pd\n",
    "import time\n",
    "# load in api keys\n",
    "from websock.client import FtxWebsocketClient\n",
    "# from websock.websocket_manager import WebsocketManager\n",
    "from rest import client_us as restclient\n",
    "\n",
    "import os\n",
    "from dotenv import load_dotenv\n",
    "\n",
    "API_KEY = os.getenv('API_KEY')\n",
    "SECRET_KEY = os.getenv('SECRET_KEY')\n",
    "\n",
    "# connect to rest client\n",
    "rest = restclient.FtxClient(api_key=API_KEY, api_secret=SECRET_KEY)\n",
    "\n",
    "# connect to websocket\n",
    "sock = FtxWebsocketClient()\n",
    "sock.connect()\n"
   ]
  },
  {
   "cell_type": "code",
   "execution_count": 117,
   "id": "54f1c43e",
   "metadata": {},
   "outputs": [
    {
     "data": {
      "text/html": [
       "<div>\n",
       "<style scoped>\n",
       "    .dataframe tbody tr th:only-of-type {\n",
       "        vertical-align: middle;\n",
       "    }\n",
       "\n",
       "    .dataframe tbody tr th {\n",
       "        vertical-align: top;\n",
       "    }\n",
       "\n",
       "    .dataframe thead th {\n",
       "        text-align: right;\n",
       "    }\n",
       "</style>\n",
       "<table border=\"1\" class=\"dataframe\">\n",
       "  <thead>\n",
       "    <tr style=\"text-align: right;\">\n",
       "      <th></th>\n",
       "    </tr>\n",
       "  </thead>\n",
       "  <tbody>\n",
       "  </tbody>\n",
       "</table>\n",
       "</div>"
      ],
      "text/plain": [
       "Empty DataFrame\n",
       "Columns: []\n",
       "Index: []"
      ]
     },
     "execution_count": 117,
     "metadata": {},
     "output_type": "execute_result"
    }
   ],
   "source": [
    "pd.DataFrame(rest.get_open_orders())"
   ]
  },
  {
   "cell_type": "code",
   "execution_count": 118,
   "id": "10c54c02",
   "metadata": {},
   "outputs": [
    {
     "data": {
      "text/plain": [
       "[]"
      ]
     },
     "execution_count": 118,
     "metadata": {},
     "output_type": "execute_result"
    }
   ],
   "source": [
    "rest.place_order()"
   ]
  },
  {
   "cell_type": "code",
   "execution_count": 115,
   "id": "5f616a3c",
   "metadata": {},
   "outputs": [
    {
     "data": {
      "text/plain": [
       "'Orders queued for cancellation'"
      ]
     },
     "execution_count": 115,
     "metadata": {},
     "output_type": "execute_result"
    }
   ],
   "source": [
    "rest.cancel_orders()"
   ]
  },
  {
   "cell_type": "code",
   "execution_count": 114,
   "id": "a6e4fb00",
   "metadata": {
    "scrolled": true
   },
   "outputs": [
    {
     "data": {
      "text/plain": [
       "[{'id': 7876496297,\n",
       "  'clientId': None,\n",
       "  'market': 'SOL/USD',\n",
       "  'type': 'limit',\n",
       "  'side': 'sell',\n",
       "  'price': 36.1,\n",
       "  'size': 0.01,\n",
       "  'status': 'open',\n",
       "  'filledSize': 0.0,\n",
       "  'remainingSize': 0.01,\n",
       "  'reduceOnly': False,\n",
       "  'liquidation': False,\n",
       "  'avgFillPrice': None,\n",
       "  'postOnly': True,\n",
       "  'ioc': False,\n",
       "  'createdAt': '2022-10-01T20:01:56.238251+00:00',\n",
       "  'future': None},\n",
       " {'id': 7869822739,\n",
       "  'clientId': None,\n",
       "  'market': 'SOL/USD',\n",
       "  'type': 'limit',\n",
       "  'side': 'buy',\n",
       "  'price': 29.62,\n",
       "  'size': 0.01,\n",
       "  'status': 'open',\n",
       "  'filledSize': 0.0,\n",
       "  'remainingSize': 0.01,\n",
       "  'reduceOnly': False,\n",
       "  'liquidation': False,\n",
       "  'avgFillPrice': None,\n",
       "  'postOnly': True,\n",
       "  'ioc': False,\n",
       "  'createdAt': '2022-10-01T04:24:29.247740+00:00',\n",
       "  'future': None},\n",
       " {'id': 7869822704,\n",
       "  'clientId': None,\n",
       "  'market': 'BTC/USD',\n",
       "  'type': 'limit',\n",
       "  'side': 'sell',\n",
       "  'price': 21338.0,\n",
       "  'size': 0.0001,\n",
       "  'status': 'open',\n",
       "  'filledSize': 0.0,\n",
       "  'remainingSize': 0.0001,\n",
       "  'reduceOnly': False,\n",
       "  'liquidation': False,\n",
       "  'avgFillPrice': None,\n",
       "  'postOnly': True,\n",
       "  'ioc': False,\n",
       "  'createdAt': '2022-10-01T04:24:28.734269+00:00',\n",
       "  'future': None},\n",
       " {'id': 7869822690,\n",
       "  'clientId': None,\n",
       "  'market': 'BTC/USD',\n",
       "  'type': 'limit',\n",
       "  'side': 'buy',\n",
       "  'price': 17457.0,\n",
       "  'size': 0.0001,\n",
       "  'status': 'open',\n",
       "  'filledSize': 0.0,\n",
       "  'remainingSize': 0.0001,\n",
       "  'reduceOnly': False,\n",
       "  'liquidation': False,\n",
       "  'avgFillPrice': None,\n",
       "  'postOnly': True,\n",
       "  'ioc': False,\n",
       "  'createdAt': '2022-10-01T04:24:28.556833+00:00',\n",
       "  'future': None},\n",
       " {'id': 7869822724,\n",
       "  'clientId': None,\n",
       "  'market': 'ETH/USD',\n",
       "  'type': 'limit',\n",
       "  'side': 'sell',\n",
       "  'price': 1461.1,\n",
       "  'size': 0.001,\n",
       "  'status': 'open',\n",
       "  'filledSize': 0.0,\n",
       "  'remainingSize': 0.001,\n",
       "  'reduceOnly': False,\n",
       "  'liquidation': False,\n",
       "  'avgFillPrice': None,\n",
       "  'postOnly': True,\n",
       "  'ioc': False,\n",
       "  'createdAt': '2022-10-01T04:24:29.071676+00:00',\n",
       "  'future': None},\n",
       " {'id': 7869822714,\n",
       "  'clientId': None,\n",
       "  'market': 'ETH/USD',\n",
       "  'type': 'limit',\n",
       "  'side': 'buy',\n",
       "  'price': 1195.3,\n",
       "  'size': 0.001,\n",
       "  'status': 'open',\n",
       "  'filledSize': 0.0,\n",
       "  'remainingSize': 0.001,\n",
       "  'reduceOnly': False,\n",
       "  'liquidation': False,\n",
       "  'avgFillPrice': None,\n",
       "  'postOnly': True,\n",
       "  'ioc': False,\n",
       "  'createdAt': '2022-10-01T04:24:28.886331+00:00',\n",
       "  'future': None}]"
      ]
     },
     "execution_count": 114,
     "metadata": {},
     "output_type": "execute_result"
    }
   ],
   "source": [
    "orders=rest.get_open_orders()\n",
    "orders"
   ]
  },
  {
   "cell_type": "code",
   "execution_count": 49,
   "id": "ac52a2d8",
   "metadata": {},
   "outputs": [
    {
     "name": "stdout",
     "output_type": "stream",
     "text": [
      "0.13365793228149414\n"
     ]
    }
   ],
   "source": [
    "start = time.time()\n",
    "bal = pd.DataFrame(rest.get_balances())\n",
    "print(time.time()-start)"
   ]
  },
  {
   "cell_type": "code",
   "execution_count": null,
   "id": "ce215339",
   "metadata": {},
   "outputs": [],
   "source": [
    "inventory = {}\n",
    "inventory[coin] = "
   ]
  },
  {
   "cell_type": "code",
   "execution_count": 59,
   "id": "741b543a",
   "metadata": {},
   "outputs": [
    {
     "data": {
      "text/html": [
       "<div>\n",
       "<style scoped>\n",
       "    .dataframe tbody tr th:only-of-type {\n",
       "        vertical-align: middle;\n",
       "    }\n",
       "\n",
       "    .dataframe tbody tr th {\n",
       "        vertical-align: top;\n",
       "    }\n",
       "\n",
       "    .dataframe thead th {\n",
       "        text-align: right;\n",
       "    }\n",
       "</style>\n",
       "<table border=\"1\" class=\"dataframe\">\n",
       "  <thead>\n",
       "    <tr style=\"text-align: right;\">\n",
       "      <th></th>\n",
       "      <th>coin</th>\n",
       "      <th>usdValue</th>\n",
       "    </tr>\n",
       "  </thead>\n",
       "  <tbody>\n",
       "    <tr>\n",
       "      <th>0</th>\n",
       "      <td>USD</td>\n",
       "      <td>24.049667</td>\n",
       "    </tr>\n",
       "    <tr>\n",
       "      <th>1</th>\n",
       "      <td>ETH</td>\n",
       "      <td>6.570620</td>\n",
       "    </tr>\n",
       "    <tr>\n",
       "      <th>2</th>\n",
       "      <td>SOL</td>\n",
       "      <td>7.342397</td>\n",
       "    </tr>\n",
       "    <tr>\n",
       "      <th>3</th>\n",
       "      <td>BTC</td>\n",
       "      <td>7.716862</td>\n",
       "    </tr>\n",
       "    <tr>\n",
       "      <th>4</th>\n",
       "      <td>DOGE</td>\n",
       "      <td>0.060467</td>\n",
       "    </tr>\n",
       "    <tr>\n",
       "      <th>5</th>\n",
       "      <td>USDT</td>\n",
       "      <td>0.000000</td>\n",
       "    </tr>\n",
       "    <tr>\n",
       "      <th>6</th>\n",
       "      <td>SHIB</td>\n",
       "      <td>0.000000</td>\n",
       "    </tr>\n",
       "  </tbody>\n",
       "</table>\n",
       "</div>"
      ],
      "text/plain": [
       "   coin   usdValue\n",
       "0   USD  24.049667\n",
       "1   ETH   6.570620\n",
       "2   SOL   7.342397\n",
       "3   BTC   7.716862\n",
       "4  DOGE   0.060467\n",
       "5  USDT   0.000000\n",
       "6  SHIB   0.000000"
      ]
     },
     "execution_count": 59,
     "metadata": {},
     "output_type": "execute_result"
    }
   ],
   "source": [
    "bal[['coin', 'usdValue']]"
   ]
  },
  {
   "cell_type": "code",
   "execution_count": 74,
   "id": "59794b5f",
   "metadata": {},
   "outputs": [
    {
     "data": {
      "text/plain": [
       "{'coin': 0     USD\n",
       " 1     ETH\n",
       " 2     SOL\n",
       " 3     BTC\n",
       " 4    DOGE\n",
       " 5    USDT\n",
       " 6    SHIB\n",
       " Name: coin, dtype: object,\n",
       " 'usdValue': 0    24.049667\n",
       " 1     6.570620\n",
       " 2     7.342397\n",
       " 3     7.716862\n",
       " 4     0.060467\n",
       " 5     0.000000\n",
       " 6     0.000000\n",
       " Name: usdValue, dtype: float64}"
      ]
     },
     "execution_count": 74,
     "metadata": {},
     "output_type": "execute_result"
    }
   ],
   "source": [
    "d = dict(bal[['coin', 'usdValue']])"
   ]
  },
  {
   "cell_type": "code",
   "execution_count": 75,
   "id": "9e09d406",
   "metadata": {},
   "outputs": [
    {
     "data": {
      "text/html": [
       "<div>\n",
       "<style scoped>\n",
       "    .dataframe tbody tr th:only-of-type {\n",
       "        vertical-align: middle;\n",
       "    }\n",
       "\n",
       "    .dataframe tbody tr th {\n",
       "        vertical-align: top;\n",
       "    }\n",
       "\n",
       "    .dataframe thead th {\n",
       "        text-align: right;\n",
       "    }\n",
       "</style>\n",
       "<table border=\"1\" class=\"dataframe\">\n",
       "  <thead>\n",
       "    <tr style=\"text-align: right;\">\n",
       "      <th></th>\n",
       "      <th>coin</th>\n",
       "      <th>usdValue</th>\n",
       "    </tr>\n",
       "  </thead>\n",
       "  <tbody>\n",
       "    <tr>\n",
       "      <th>0</th>\n",
       "      <td>USD</td>\n",
       "      <td>24.049667</td>\n",
       "    </tr>\n",
       "    <tr>\n",
       "      <th>1</th>\n",
       "      <td>ETH</td>\n",
       "      <td>6.570620</td>\n",
       "    </tr>\n",
       "    <tr>\n",
       "      <th>2</th>\n",
       "      <td>SOL</td>\n",
       "      <td>7.342397</td>\n",
       "    </tr>\n",
       "    <tr>\n",
       "      <th>3</th>\n",
       "      <td>BTC</td>\n",
       "      <td>7.716862</td>\n",
       "    </tr>\n",
       "    <tr>\n",
       "      <th>4</th>\n",
       "      <td>DOGE</td>\n",
       "      <td>0.060467</td>\n",
       "    </tr>\n",
       "    <tr>\n",
       "      <th>5</th>\n",
       "      <td>USDT</td>\n",
       "      <td>0.000000</td>\n",
       "    </tr>\n",
       "    <tr>\n",
       "      <th>6</th>\n",
       "      <td>SHIB</td>\n",
       "      <td>0.000000</td>\n",
       "    </tr>\n",
       "  </tbody>\n",
       "</table>\n",
       "</div>"
      ],
      "text/plain": [
       "   coin   usdValue\n",
       "0   USD  24.049667\n",
       "1   ETH   6.570620\n",
       "2   SOL   7.342397\n",
       "3   BTC   7.716862\n",
       "4  DOGE   0.060467\n",
       "5  USDT   0.000000\n",
       "6  SHIB   0.000000"
      ]
     },
     "execution_count": 75,
     "metadata": {},
     "output_type": "execute_result"
    }
   ],
   "source": [
    "bal[['coin', 'usdValue']]"
   ]
  },
  {
   "cell_type": "code",
   "execution_count": 120,
   "id": "2e0d5f51",
   "metadata": {},
   "outputs": [
    {
     "data": {
      "text/plain": [
       "36.2025"
      ]
     },
     "execution_count": 120,
     "metadata": {},
     "output_type": "execute_result"
    }
   ],
   "source": [
    "cq[cq['side']=='sell']['price'].item()"
   ]
  },
  {
   "cell_type": "code",
   "execution_count": 111,
   "id": "3f18740a",
   "metadata": {},
   "outputs": [
    {
     "data": {
      "text/plain": [
       "{'id': 7876496297,\n",
       " 'clientId': None,\n",
       " 'market': 'SOL/USD',\n",
       " 'type': 'limit',\n",
       " 'side': 'sell',\n",
       " 'price': 36.1,\n",
       " 'size': 0.01,\n",
       " 'status': 'new',\n",
       " 'filledSize': 0.0,\n",
       " 'remainingSize': 0.01,\n",
       " 'reduceOnly': False,\n",
       " 'liquidation': False,\n",
       " 'avgFillPrice': None,\n",
       " 'postOnly': True,\n",
       " 'ioc': False,\n",
       " 'createdAt': '2022-10-01T20:01:56.238251+00:00',\n",
       " 'future': None}"
      ]
     },
     "execution_count": 111,
     "metadata": {},
     "output_type": "execute_result"
    }
   ],
   "source": [
    "rest.modify_order(7869822750, price=36.1)"
   ]
  },
  {
   "cell_type": "code",
   "execution_count": 113,
   "id": "5d08ec08",
   "metadata": {},
   "outputs": [
    {
     "data": {
      "text/html": [
       "<div>\n",
       "<style scoped>\n",
       "    .dataframe tbody tr th:only-of-type {\n",
       "        vertical-align: middle;\n",
       "    }\n",
       "\n",
       "    .dataframe tbody tr th {\n",
       "        vertical-align: top;\n",
       "    }\n",
       "\n",
       "    .dataframe thead th {\n",
       "        text-align: right;\n",
       "    }\n",
       "</style>\n",
       "<table border=\"1\" class=\"dataframe\">\n",
       "  <thead>\n",
       "    <tr style=\"text-align: right;\">\n",
       "      <th></th>\n",
       "      <th>id</th>\n",
       "      <th>clientId</th>\n",
       "      <th>market</th>\n",
       "      <th>type</th>\n",
       "      <th>side</th>\n",
       "      <th>price</th>\n",
       "      <th>size</th>\n",
       "      <th>status</th>\n",
       "      <th>filledSize</th>\n",
       "      <th>remainingSize</th>\n",
       "      <th>reduceOnly</th>\n",
       "      <th>liquidation</th>\n",
       "      <th>avgFillPrice</th>\n",
       "      <th>postOnly</th>\n",
       "      <th>ioc</th>\n",
       "      <th>createdAt</th>\n",
       "      <th>future</th>\n",
       "    </tr>\n",
       "  </thead>\n",
       "  <tbody>\n",
       "    <tr>\n",
       "      <th>0</th>\n",
       "      <td>7869822750</td>\n",
       "      <td>None</td>\n",
       "      <td>SOL/USD</td>\n",
       "      <td>limit</td>\n",
       "      <td>sell</td>\n",
       "      <td>36.2025</td>\n",
       "      <td>0.01</td>\n",
       "      <td>open</td>\n",
       "      <td>0.0</td>\n",
       "      <td>0.01</td>\n",
       "      <td>False</td>\n",
       "      <td>False</td>\n",
       "      <td>None</td>\n",
       "      <td>True</td>\n",
       "      <td>False</td>\n",
       "      <td>2022-10-01T04:24:29.428611+00:00</td>\n",
       "      <td>None</td>\n",
       "    </tr>\n",
       "    <tr>\n",
       "      <th>1</th>\n",
       "      <td>7869822739</td>\n",
       "      <td>None</td>\n",
       "      <td>SOL/USD</td>\n",
       "      <td>limit</td>\n",
       "      <td>buy</td>\n",
       "      <td>29.6200</td>\n",
       "      <td>0.01</td>\n",
       "      <td>open</td>\n",
       "      <td>0.0</td>\n",
       "      <td>0.01</td>\n",
       "      <td>False</td>\n",
       "      <td>False</td>\n",
       "      <td>None</td>\n",
       "      <td>True</td>\n",
       "      <td>False</td>\n",
       "      <td>2022-10-01T04:24:29.247740+00:00</td>\n",
       "      <td>None</td>\n",
       "    </tr>\n",
       "  </tbody>\n",
       "</table>\n",
       "</div>"
      ],
      "text/plain": [
       "           id clientId   market   type  side    price  size status  \\\n",
       "0  7869822750     None  SOL/USD  limit  sell  36.2025  0.01   open   \n",
       "1  7869822739     None  SOL/USD  limit   buy  29.6200  0.01   open   \n",
       "\n",
       "   filledSize  remainingSize  reduceOnly  liquidation avgFillPrice  postOnly  \\\n",
       "0         0.0           0.01       False        False         None      True   \n",
       "1         0.0           0.01       False        False         None      True   \n",
       "\n",
       "     ioc                         createdAt future  \n",
       "0  False  2022-10-01T04:24:29.428611+00:00   None  \n",
       "1  False  2022-10-01T04:24:29.247740+00:00   None  "
      ]
     },
     "execution_count": 113,
     "metadata": {},
     "output_type": "execute_result"
    }
   ],
   "source": []
  },
  {
   "cell_type": "code",
   "execution_count": 104,
   "id": "4dd3ba11",
   "metadata": {},
   "outputs": [
    {
     "ename": "NameError",
     "evalue": "name 'cur_quote' is not defined",
     "output_type": "error",
     "traceback": [
      "\u001b[0;31m---------------------------------------------------------------------------\u001b[0m",
      "\u001b[0;31mNameError\u001b[0m                                 Traceback (most recent call last)",
      "\u001b[0;32m/var/folders/63/8vv69j_j3zjc5dbklb7f45_w0000gn/T/ipykernel_4852/816414049.py\u001b[0m in \u001b[0;36m<module>\u001b[0;34m\u001b[0m\n\u001b[0;32m----> 1\u001b[0;31m \u001b[0mcur_quote\u001b[0m\u001b[0;34m[\u001b[0m\u001b[0mcur_quote\u001b[0m\u001b[0;34m[\u001b[0m\u001b[0;34m'side'\u001b[0m\u001b[0;34m]\u001b[0m\u001b[0;34m==\u001b[0m\u001b[0;34m'sell'\u001b[0m\u001b[0;34m]\u001b[0m\u001b[0;34m\u001b[0m\u001b[0;34m\u001b[0m\u001b[0m\n\u001b[0m",
      "\u001b[0;31mNameError\u001b[0m: name 'cur_quote' is not defined"
     ]
    }
   ],
   "source": [
    "cur_quote[cur_quote['side']=='sell']"
   ]
  },
  {
   "cell_type": "code",
   "execution_count": 101,
   "id": "1bbb2c33",
   "metadata": {},
   "outputs": [
    {
     "data": {
      "text/plain": [
       "{'USD': 24.04966721263172,\n",
       " 'ETH': 6.54854,\n",
       " 'SOL': 7.325974518835526,\n",
       " 'BTC': 7.6959419334,\n",
       " 'DOGE': 0.06041223794,\n",
       " 'USDT': 0.0,\n",
       " 'SHIB': 0.0}"
      ]
     },
     "execution_count": 101,
     "metadata": {},
     "output_type": "execute_result"
    }
   ],
   "source": [
    "bals = pd.DataFrame(rest.get_balances())\n",
    "inventory = bals[['coin','usdValue']].set_index('coin').to_dict()['usdValue']\n",
    "inventory"
   ]
  },
  {
   "cell_type": "code",
   "execution_count": 99,
   "id": "94ae0c36",
   "metadata": {},
   "outputs": [
    {
     "data": {
      "text/plain": [
       "24.04966721263172"
      ]
     },
     "execution_count": 99,
     "metadata": {},
     "output_type": "execute_result"
    }
   ],
   "source": [
    "d = bal[['coin','usdValue']].set_index('coin').to_dict()['usdValue']\n",
    "d['USD']"
   ]
  },
  {
   "cell_type": "code",
   "execution_count": 86,
   "id": "e558ea59",
   "metadata": {},
   "outputs": [
    {
     "data": {
      "text/plain": [
       "float"
      ]
     },
     "execution_count": 86,
     "metadata": {},
     "output_type": "execute_result"
    }
   ],
   "source": [
    "inventory = bal[['coin','usdValue']].set_index('coin').T.to_dict('list')\n"
   ]
  },
  {
   "cell_type": "code",
   "execution_count": 65,
   "id": "072e29c5",
   "metadata": {},
   "outputs": [
    {
     "data": {
      "text/plain": [
       "{'coin': 'coin', 'usdValue': 'usdValue'}"
      ]
     },
     "execution_count": 65,
     "metadata": {},
     "output_type": "execute_result"
    }
   ],
   "source": [
    "inventory = {coin: coin for coin in bal[['coin', 'usdValue']]}\n",
    "inventory"
   ]
  },
  {
   "cell_type": "code",
   "execution_count": 123,
   "id": "9468d1aa",
   "metadata": {},
   "outputs": [
    {
     "data": {
      "text/plain": [
       "32.55"
      ]
     },
     "execution_count": 123,
     "metadata": {},
     "output_type": "execute_result"
    }
   ],
   "source": [
    "ba = sock.get_orderbook('SOL/USD')['asks'][0][0]"
   ]
  },
  {
   "cell_type": "code",
   "execution_count": 152,
   "id": "2ebc342b",
   "metadata": {},
   "outputs": [
    {
     "data": {
      "text/plain": [
       "{'id': 7876766396,\n",
       " 'clientId': None,\n",
       " 'market': 'SOL/USD',\n",
       " 'type': 'limit',\n",
       " 'side': 'buy',\n",
       " 'price': 26.035,\n",
       " 'size': 0.01,\n",
       " 'status': 'new',\n",
       " 'filledSize': 0.0,\n",
       " 'remainingSize': 0.01,\n",
       " 'reduceOnly': False,\n",
       " 'liquidation': False,\n",
       " 'avgFillPrice': None,\n",
       " 'postOnly': False,\n",
       " 'ioc': False,\n",
       " 'createdAt': '2022-10-01T20:34:08.049742+00:00',\n",
       " 'future': None}"
      ]
     },
     "execution_count": 152,
     "metadata": {},
     "output_type": "execute_result"
    }
   ],
   "source": [
    "bb = sock.get_orderbook('SOL/USD')['bids'][0][0]\n",
    "rest.place_order('SOL/USD', price=bb*0.80, size=0.01, side='buy')"
   ]
  },
  {
   "cell_type": "code",
   "execution_count": 154,
   "id": "563e8dcf",
   "metadata": {},
   "outputs": [
    {
     "name": "stdout",
     "output_type": "stream",
     "text": [
      "           id clientId   market   type side    price  size status  filledSize  \\\n",
      "0  7876766396     None  SOL/USD  limit  buy  26.0350  0.01   open         0.0   \n",
      "1  7876766245     None  SOL/USD  limit  buy  26.0350  0.01   open         0.0   \n",
      "2  7876766195     None  SOL/USD  limit  buy  26.0350  0.01   open         0.0   \n",
      "3  7876739406     None  SOL/USD  limit  buy  27.6625  0.01   open         0.0   \n",
      "\n",
      "   remainingSize  reduceOnly  liquidation avgFillPrice  postOnly    ioc  \\\n",
      "0           0.01       False        False         None     False  False   \n",
      "1           0.01       False        False         None     False  False   \n",
      "2           0.01       False        False         None     False  False   \n",
      "3           0.01       False        False         None     False  False   \n",
      "\n",
      "                          createdAt future  \n",
      "0  2022-10-01T20:34:08.049742+00:00   None  \n",
      "1  2022-10-01T20:34:07.292011+00:00   None  \n",
      "2  2022-10-01T20:34:06.560453+00:00   None  \n",
      "3  2022-10-01T20:29:35.522272+00:00   None  \n"
     ]
    },
    {
     "data": {
      "text/html": [
       "<div>\n",
       "<style scoped>\n",
       "    .dataframe tbody tr th:only-of-type {\n",
       "        vertical-align: middle;\n",
       "    }\n",
       "\n",
       "    .dataframe tbody tr th {\n",
       "        vertical-align: top;\n",
       "    }\n",
       "\n",
       "    .dataframe thead th {\n",
       "        text-align: right;\n",
       "    }\n",
       "</style>\n",
       "<table border=\"1\" class=\"dataframe\">\n",
       "  <thead>\n",
       "    <tr style=\"text-align: right;\">\n",
       "      <th></th>\n",
       "      <th>id</th>\n",
       "      <th>clientId</th>\n",
       "      <th>market</th>\n",
       "      <th>type</th>\n",
       "      <th>side</th>\n",
       "      <th>price</th>\n",
       "      <th>size</th>\n",
       "      <th>status</th>\n",
       "      <th>filledSize</th>\n",
       "      <th>remainingSize</th>\n",
       "      <th>reduceOnly</th>\n",
       "      <th>liquidation</th>\n",
       "      <th>avgFillPrice</th>\n",
       "      <th>postOnly</th>\n",
       "      <th>ioc</th>\n",
       "      <th>createdAt</th>\n",
       "      <th>future</th>\n",
       "    </tr>\n",
       "  </thead>\n",
       "  <tbody>\n",
       "    <tr>\n",
       "      <th>0</th>\n",
       "      <td>7876739406</td>\n",
       "      <td>None</td>\n",
       "      <td>SOL/USD</td>\n",
       "      <td>limit</td>\n",
       "      <td>buy</td>\n",
       "      <td>27.6625</td>\n",
       "      <td>0.01</td>\n",
       "      <td>open</td>\n",
       "      <td>0.0</td>\n",
       "      <td>0.01</td>\n",
       "      <td>False</td>\n",
       "      <td>False</td>\n",
       "      <td>None</td>\n",
       "      <td>False</td>\n",
       "      <td>False</td>\n",
       "      <td>2022-10-01T20:29:35.522272+00:00</td>\n",
       "      <td>None</td>\n",
       "    </tr>\n",
       "  </tbody>\n",
       "</table>\n",
       "</div>"
      ],
      "text/plain": [
       "           id clientId   market   type side    price  size status  filledSize  \\\n",
       "0  7876739406     None  SOL/USD  limit  buy  27.6625  0.01   open         0.0   \n",
       "\n",
       "   remainingSize  reduceOnly  liquidation avgFillPrice  postOnly    ioc  \\\n",
       "0           0.01       False        False         None     False  False   \n",
       "\n",
       "                          createdAt future  \n",
       "0  2022-10-01T20:29:35.522272+00:00   None  "
      ]
     },
     "execution_count": 154,
     "metadata": {},
     "output_type": "execute_result"
    }
   ],
   "source": [
    "orders = pd.DataFrame(rest.get_open_orders())\n",
    "cq = orders[orders['market']=='SOL/USD']\n",
    "print(cq)\n",
    "todrop = cq.sort_values(by='price')\n",
    "todrop = cq[:-1]\n",
    "lst = list(todrop['id'])\n",
    "for l in lst:\n",
    "    rest.cancel_order(l)\n",
    "orders = pd.DataFrame(rest.get_open_orders())\n",
    "orders"
   ]
  },
  {
   "cell_type": "code",
   "execution_count": null,
   "id": "e07e8581",
   "metadata": {},
   "outputs": [],
   "source": []
  },
  {
   "cell_type": "code",
   "execution_count": null,
   "id": "309c3376",
   "metadata": {},
   "outputs": [],
   "source": []
  },
  {
   "cell_type": "code",
   "execution_count": 30,
   "id": "27106e69",
   "metadata": {},
   "outputs": [
    {
     "name": "stdout",
     "output_type": "stream",
     "text": [
      "0.0006809234619140625\n"
     ]
    }
   ],
   "source": [
    "start = time.time()\n",
    "orders[orders['market']=='SOL/USD']\n",
    "print(time.time()-start)"
   ]
  },
  {
   "cell_type": "code",
   "execution_count": 16,
   "id": "77968637",
   "metadata": {},
   "outputs": [
    {
     "name": "stdout",
     "output_type": "stream",
     "text": [
      "0.15035414695739746\n"
     ]
    }
   ],
   "source": [
    "start = time.time()\n",
    "rest.get_open_orders()\n",
    "print(time.time()-start)"
   ]
  },
  {
   "cell_type": "code",
   "execution_count": 10,
   "id": "e7dfbc28",
   "metadata": {},
   "outputs": [
    {
     "name": "stdout",
     "output_type": "stream",
     "text": [
      "0.15668010711669922\n"
     ]
    }
   ],
   "source": [
    "start = time.time()\n",
    "pd.DataFrame(rest.get_open_orders())\n",
    "print(time.time()-start)"
   ]
  },
  {
   "cell_type": "code",
   "execution_count": 12,
   "id": "7547d3c7",
   "metadata": {},
   "outputs": [
    {
     "data": {
      "text/plain": [
       "[{'id': 7869822724,\n",
       "  'clientId': None,\n",
       "  'market': 'ETH/USD',\n",
       "  'type': 'limit',\n",
       "  'side': 'sell',\n",
       "  'price': 1461.1,\n",
       "  'size': 0.001,\n",
       "  'status': 'open',\n",
       "  'filledSize': 0.0,\n",
       "  'remainingSize': 0.001,\n",
       "  'reduceOnly': False,\n",
       "  'liquidation': False,\n",
       "  'avgFillPrice': None,\n",
       "  'postOnly': True,\n",
       "  'ioc': False,\n",
       "  'createdAt': '2022-10-01T04:24:29.071676+00:00',\n",
       "  'future': None},\n",
       " {'id': 7869822714,\n",
       "  'clientId': None,\n",
       "  'market': 'ETH/USD',\n",
       "  'type': 'limit',\n",
       "  'side': 'buy',\n",
       "  'price': 1195.3,\n",
       "  'size': 0.001,\n",
       "  'status': 'open',\n",
       "  'filledSize': 0.0,\n",
       "  'remainingSize': 0.001,\n",
       "  'reduceOnly': False,\n",
       "  'liquidation': False,\n",
       "  'avgFillPrice': None,\n",
       "  'postOnly': True,\n",
       "  'ioc': False,\n",
       "  'createdAt': '2022-10-01T04:24:28.886331+00:00',\n",
       "  'future': None}]"
      ]
     },
     "execution_count": 12,
     "metadata": {},
     "output_type": "execute_result"
    }
   ],
   "source": [
    "rest.get_open_orders('ETH/USD')"
   ]
  },
  {
   "cell_type": "code",
   "execution_count": null,
   "id": "2a8271a9",
   "metadata": {},
   "outputs": [],
   "source": []
  }
 ],
 "metadata": {
  "kernelspec": {
   "display_name": "Python 3 (ipykernel)",
   "language": "python",
   "name": "python3"
  },
  "language_info": {
   "codemirror_mode": {
    "name": "ipython",
    "version": 3
   },
   "file_extension": ".py",
   "mimetype": "text/x-python",
   "name": "python",
   "nbconvert_exporter": "python",
   "pygments_lexer": "ipython3",
   "version": "3.8.3"
  }
 },
 "nbformat": 4,
 "nbformat_minor": 5
}
